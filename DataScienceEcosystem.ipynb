{
  "metadata": {
    "kernelspec": {
      "name": "python",
      "display_name": "Python (Pyodide)",
      "language": "python"
    },
    "language_info": {
      "codemirror_mode": {
        "name": "python",
        "version": 3
      },
      "file_extension": ".py",
      "mimetype": "text/x-python",
      "name": "python",
      "nbconvert_exporter": "python",
      "pygments_lexer": "ipython3",
      "version": "3.8"
    }
  },
  "nbformat_minor": 5,
  "nbformat": 4,
  "cells": [
    {
      "id": "fa551eb7-c134-4b38-8e21-94439128e229",
      "cell_type": "markdown",
      "source": "# Data Science Tools and Ecosystem",
      "metadata": {}
    },
    {
      "id": "02953f98-7719-472d-8d1e-39ddf478ebbf",
      "cell_type": "markdown",
      "source": "In this notebook, Data Science tools and ecosystem summarized.",
      "metadata": {}
    },
    {
      "id": "7c4c0425-a2e3-4e21-88a9-164d73a8e610",
      "cell_type": "markdown",
      "source": "**Objectives:**\n* list data science languages\n* list data science tools\n* list data science libraries",
      "metadata": {}
    },
    {
      "id": "359caa29-b2f2-45fe-8c02-6aa99264ca09",
      "cell_type": "markdown",
      "source": "Popular data science languages are:\n1. Python\n2. R\n3. SQL\n4. Java\n5. ",
      "metadata": {}
    },
    {
      "id": "aff752bf-bf8e-411f-bdbe-0458b7f8bce5",
      "cell_type": "markdown",
      "source": "Data Science Libraries:\n1. TensorFlow\n2. Scipy\n3. Scikit-Learn\n4. NumPy",
      "metadata": {}
    },
    {
      "id": "4c986c19-7d8b-435b-9d30-bf66de86820f",
      "cell_type": "markdown",
      "source": "|Data Science Tools|\n|-----------------|\n|Jupyter Notebook|\n|RStudio|\n|Spyder|",
      "metadata": {}
    },
    {
      "id": "bc88edb6-d534-496a-a5e6-9f7230158478",
      "cell_type": "markdown",
      "source": "### Below are some examples of evaluating arithmetic expressions in Python",
      "metadata": {}
    },
    {
      "id": "aee2c20b-dd67-452b-86f1-c73313a67e5d",
      "cell_type": "code",
      "source": "#this is a simple arithmetic expression to multiply then add integers\n(3*4)+5",
      "metadata": {
        "trusted": true
      },
      "outputs": [
        {
          "execution_count": 2,
          "output_type": "execute_result",
          "data": {
            "text/plain": "17"
          },
          "metadata": {}
        }
      ],
      "execution_count": 2
    },
    {
      "id": "25c4a1e4-054d-4725-bb0b-69b2c3c77b96",
      "cell_type": "code",
      "source": "#this will convert 200 minutes to hours by dividing by 60\n200/60",
      "metadata": {
        "trusted": true
      },
      "outputs": [
        {
          "execution_count": 3,
          "output_type": "execute_result",
          "data": {
            "text/plain": "3.3333333333333335"
          },
          "metadata": {}
        }
      ],
      "execution_count": 3
    },
    {
      "id": "f5d15c2f-bc79-419e-9333-b9e82d46bcc8",
      "cell_type": "markdown",
      "source": "## Author\nChaya Greenspan",
      "metadata": {}
    },
    {
      "id": "9d8f506c-8649-4544-b5c8-795e58ac1394",
      "cell_type": "code",
      "source": "",
      "metadata": {
        "trusted": true
      },
      "outputs": [],
      "execution_count": null
    }
  ]
}